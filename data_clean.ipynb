{
 "cells": [
  {
   "cell_type": "code",
   "execution_count": 54,
   "id": "a612a7a0-f7a3-44c7-8547-50fa3a3736f6",
   "metadata": {},
   "outputs": [],
   "source": [
    "import findspark\n",
    "findspark.init()\n",
    "from pyspark.sql import SparkSession\n",
    "from pyspark.sql.functions import isnan, when, count, col\n",
    "spark = SparkSession.builder.appName(\"my-app-name\").getOrCreate()\n",
    "from pyspark.sql.functions import udf"
   ]
  },
  {
   "cell_type": "code",
   "execution_count": 2,
   "id": "e889d6f6-0c74-4e5b-bde2-d3049f7ed348",
   "metadata": {},
   "outputs": [
    {
     "name": "stderr",
     "output_type": "stream",
     "text": [
      "                                                                                \r"
     ]
    }
   ],
   "source": [
    "df_2019_07 = spark.read.parquet(\"s3://jw1987/fhv_tripdata_2019-07.parquet\")\n",
    "df_2019_08 = spark.read.parquet(\"s3://jw1987/fhv_tripdata_2019-08.parquet\")"
   ]
  },
  {
   "cell_type": "code",
   "execution_count": 34,
   "id": "ba012ea5-8361-422d-857d-af96cacbc88d",
   "metadata": {},
   "outputs": [
    {
     "name": "stdout",
     "output_type": "stream",
     "text": [
      "root\n",
      " |-- pickup_datetime: timestamp (nullable = true)\n",
      " |-- dropOff_datetime: timestamp (nullable = true)\n",
      " |-- PUlocationID: double (nullable = true)\n",
      " |-- DOlocationID: double (nullable = true)\n",
      "\n"
     ]
    }
   ],
   "source": [
    "df_2019_07.printSchema()"
   ]
  },
  {
   "cell_type": "code",
   "execution_count": 7,
   "id": "01748068-3ae1-4995-ad05-ca2c55d7d287",
   "metadata": {},
   "outputs": [
    {
     "data": {
      "text/plain": [
       "1947743"
      ]
     },
     "execution_count": 7,
     "metadata": {},
     "output_type": "execute_result"
    }
   ],
   "source": [
    "df_2019_07.count()"
   ]
  },
  {
   "cell_type": "code",
   "execution_count": 8,
   "id": "634239a3-9c6a-48a0-9f7e-f4bd65743a28",
   "metadata": {},
   "outputs": [
    {
     "data": {
      "text/plain": [
       "1880408"
      ]
     },
     "execution_count": 8,
     "metadata": {},
     "output_type": "execute_result"
    }
   ],
   "source": [
    "df_2019_08.count()"
   ]
  },
  {
   "cell_type": "code",
   "execution_count": 3,
   "id": "6d2afabc-7113-4183-88d3-f72d9b6e5ee7",
   "metadata": {},
   "outputs": [
    {
     "name": "stderr",
     "output_type": "stream",
     "text": [
      "[Stage 3:============================================>              (3 + 1) / 4]\r"
     ]
    },
    {
     "name": "stdout",
     "output_type": "stream",
     "text": [
      "+--------------------+-------------------+-------------------+------------+------------+-------+----------------------+\n",
      "|dispatching_base_num|    pickup_datetime|   dropOff_datetime|PUlocationID|DOlocationID|SR_Flag|Affiliated_base_number|\n",
      "+--------------------+-------------------+-------------------+------------+------------+-------+----------------------+\n",
      "|              B00013|2019-07-01 00:40:00|2019-07-01 01:19:25|       264.0|       264.0|   null|                B00013|\n",
      "|              B00014|2019-07-01 00:00:00|2019-07-01 01:06:35|       264.0|       264.0|   null|                B00014|\n",
      "|              B00014|2019-07-01 00:04:27|2019-07-01 00:07:38|       264.0|       264.0|   null|                B00014|\n",
      "|              B00014|2019-07-01 00:39:51|2019-07-01 00:42:24|       264.0|       264.0|   null|                B00014|\n",
      "|              B00014|2019-07-01 00:10:00|2019-07-01 02:49:25|       264.0|       264.0|   null|                B00014|\n",
      "+--------------------+-------------------+-------------------+------------+------------+-------+----------------------+\n",
      "only showing top 5 rows\n",
      "\n"
     ]
    },
    {
     "name": "stderr",
     "output_type": "stream",
     "text": [
      "                                                                                \r"
     ]
    }
   ],
   "source": [
    "df_2019_07.show(5)"
   ]
  },
  {
   "cell_type": "code",
   "execution_count": 6,
   "id": "8ad45577-b13e-4f6d-8a72-8ae479a97584",
   "metadata": {},
   "outputs": [
    {
     "name": "stderr",
     "output_type": "stream",
     "text": [
      "[Stage 4:===============================================>           (4 + 1) / 5]\r"
     ]
    },
    {
     "name": "stdout",
     "output_type": "stream",
     "text": [
      "+--------------------+---------------+----------------+------------+------------+-------+----------------------+\n",
      "|dispatching_base_num|pickup_datetime|dropOff_datetime|PUlocationID|DOlocationID|SR_Flag|Affiliated_base_number|\n",
      "+--------------------+---------------+----------------+------------+------------+-------+----------------------+\n",
      "|                   0|              0|               0|       11055|         164|1947743|                 15526|\n",
      "+--------------------+---------------+----------------+------------+------------+-------+----------------------+\n",
      "\n"
     ]
    },
    {
     "name": "stderr",
     "output_type": "stream",
     "text": [
      "                                                                                \r"
     ]
    }
   ],
   "source": [
    "df_2019_07.select([count(when(col(c).isNull(), c)).alias(c) for c in df_2019_07.columns]).show()"
   ]
  },
  {
   "cell_type": "code",
   "execution_count": 9,
   "id": "9997d8b7-796c-4e61-9624-ea4d75ad90fb",
   "metadata": {},
   "outputs": [
    {
     "name": "stderr",
     "output_type": "stream",
     "text": [
      "[Stage 13:==============================================>           (4 + 1) / 5]\r"
     ]
    },
    {
     "name": "stdout",
     "output_type": "stream",
     "text": [
      "+--------------------+---------------+----------------+------------+------------+-------+----------------------+\n",
      "|dispatching_base_num|pickup_datetime|dropOff_datetime|PUlocationID|DOlocationID|SR_Flag|Affiliated_base_number|\n",
      "+--------------------+---------------+----------------+------------+------------+-------+----------------------+\n",
      "|                   0|              0|               0|       56027|          51|1880408|                 12178|\n",
      "+--------------------+---------------+----------------+------------+------------+-------+----------------------+\n",
      "\n"
     ]
    },
    {
     "name": "stderr",
     "output_type": "stream",
     "text": [
      "                                                                                \r"
     ]
    }
   ],
   "source": [
    "df_2019_08.select([count(when(col(c).isNull(), c)).alias(c) for c in df_2019_08.columns]).show()"
   ]
  },
  {
   "cell_type": "code",
   "execution_count": 27,
   "id": "5f707889-abfe-4c4e-9282-bfd9621369ac",
   "metadata": {},
   "outputs": [],
   "source": [
    "df_2019_07 = df_2019_07.filter(~df_2019_07.PUlocationID.isNull())"
   ]
  },
  {
   "cell_type": "code",
   "execution_count": 28,
   "id": "05471658-e122-43f9-a717-a2327e5d903b",
   "metadata": {},
   "outputs": [],
   "source": [
    "df_2019_08 = df_2019_08.filter(~df_2019_08.PUlocationID.isNull())"
   ]
  },
  {
   "cell_type": "code",
   "execution_count": 29,
   "id": "d7490cc8-c4e4-43a0-8742-f114a300ff56",
   "metadata": {},
   "outputs": [],
   "source": [
    "df_2019_07 = df_2019_07.select(\"pickup_datetime\", \"dropOff_datetime\", \"PUlocationID\", \"DOlocationID\")"
   ]
  },
  {
   "cell_type": "code",
   "execution_count": 30,
   "id": "274a05da-cfcc-46c3-80c8-f0f75bacba13",
   "metadata": {},
   "outputs": [],
   "source": [
    "df_2019_08 = df_2019_08.select(\"pickup_datetime\", \"dropOff_datetime\", \"PUlocationID\", \"DOlocationID\")"
   ]
  },
  {
   "cell_type": "code",
   "execution_count": 24,
   "id": "316782ec-026d-4f6b-ae27-82f3db531b45",
   "metadata": {},
   "outputs": [
    {
     "name": "stderr",
     "output_type": "stream",
     "text": [
      "[Stage 25:===========================================>              (3 + 1) / 4]\r"
     ]
    },
    {
     "name": "stdout",
     "output_type": "stream",
     "text": [
      "+-------------------+-------------------+------------+------------+\n",
      "|    pickup_datetime|   dropOff_datetime|PUlocationID|DOlocationID|\n",
      "+-------------------+-------------------+------------+------------+\n",
      "|2019-07-01 00:40:00|2019-07-01 01:19:25|       264.0|       264.0|\n",
      "|2019-07-01 00:00:00|2019-07-01 01:06:35|       264.0|       264.0|\n",
      "|2019-07-01 00:04:27|2019-07-01 00:07:38|       264.0|       264.0|\n",
      "|2019-07-01 00:39:51|2019-07-01 00:42:24|       264.0|       264.0|\n",
      "|2019-07-01 00:10:00|2019-07-01 02:49:25|       264.0|       264.0|\n",
      "+-------------------+-------------------+------------+------------+\n",
      "only showing top 5 rows\n",
      "\n"
     ]
    },
    {
     "name": "stderr",
     "output_type": "stream",
     "text": [
      "                                                                                \r"
     ]
    }
   ],
   "source": [
    "df_2019_07.show(5)"
   ]
  },
  {
   "cell_type": "code",
   "execution_count": 31,
   "id": "ece0d890-7066-4c93-aba7-35331bd9e9a9",
   "metadata": {},
   "outputs": [
    {
     "name": "stderr",
     "output_type": "stream",
     "text": [
      "                                                                                \r"
     ]
    },
    {
     "data": {
      "text/plain": [
       "1936688"
      ]
     },
     "execution_count": 31,
     "metadata": {},
     "output_type": "execute_result"
    }
   ],
   "source": [
    "df_2019_07.count()"
   ]
  },
  {
   "cell_type": "code",
   "execution_count": 32,
   "id": "0b6ab547-0b7d-4fa2-a07c-686a70da07f8",
   "metadata": {},
   "outputs": [
    {
     "data": {
      "text/plain": [
       "1824381"
      ]
     },
     "execution_count": 32,
     "metadata": {},
     "output_type": "execute_result"
    }
   ],
   "source": [
    "df_2019_08.count()"
   ]
  },
  {
   "cell_type": "markdown",
   "id": "4eea3a8e-bda4-4458-876a-84ad3607f6b9",
   "metadata": {},
   "source": [
    "# adjuct the time"
   ]
  },
  {
   "cell_type": "code",
   "execution_count": 41,
   "id": "49043d3a-e22d-4ad5-9932-ca793b4e7153",
   "metadata": {},
   "outputs": [],
   "source": [
    "from pyspark.sql import functions as f\n",
    "df_2019_07 = df_2019_07.withColumn(\"pickup_datetime\", f.from_unixtime(f.unix_timestamp(df_2019_07.pickup_datetime), \"yyyy-MM-dd HH:MM:SS\"))"
   ]
  },
  {
   "cell_type": "code",
   "execution_count": 42,
   "id": "e9e22c70-e6dd-4a05-b68a-f809875d0d8a",
   "metadata": {},
   "outputs": [],
   "source": [
    "df_2019_08 = df_2019_08.withColumn(\"pickup_datetime\", f.from_unixtime(f.unix_timestamp(df_2019_08.pickup_datetime), \"yyyy-MM-dd HH:MM:SS\"))"
   ]
  },
  {
   "cell_type": "code",
   "execution_count": 43,
   "id": "824c81ab-1371-4b90-8f92-f34eadf8e8f5",
   "metadata": {},
   "outputs": [
    {
     "name": "stdout",
     "output_type": "stream",
     "text": [
      "root\n",
      " |-- pickup_datetime: string (nullable = true)\n",
      " |-- dropOff_datetime: timestamp (nullable = true)\n",
      " |-- PUlocationID: double (nullable = true)\n",
      " |-- DOlocationID: double (nullable = true)\n",
      "\n"
     ]
    }
   ],
   "source": [
    "df_2019_08.printSchema()"
   ]
  },
  {
   "cell_type": "code",
   "execution_count": 55,
   "id": "d53e90ba-f543-40cf-b470-3848ba71527a",
   "metadata": {},
   "outputs": [],
   "source": [
    "def adj_time(string):\n",
    "    return string[:13] + \":00:00\""
   ]
  },
  {
   "cell_type": "code",
   "execution_count": 56,
   "id": "4e11e038-efc3-408c-9854-4913ba4c60c1",
   "metadata": {},
   "outputs": [],
   "source": [
    "adj_time_UDF = udf(lambda m: adj_time(m))"
   ]
  },
  {
   "cell_type": "code",
   "execution_count": 60,
   "id": "3dfb95e5-387f-43f4-9fe3-9308fe03b540",
   "metadata": {},
   "outputs": [],
   "source": [
    "df_2019_08 = df_2019_08.withColumn(\"pickup_timeslot\",adj_time_UDF(col(\"pickup_datetime\")))"
   ]
  },
  {
   "cell_type": "code",
   "execution_count": 61,
   "id": "f6275cc2-4a5d-4c99-ac39-bbe34197c463",
   "metadata": {},
   "outputs": [],
   "source": [
    "df_2019_07 = df_2019_07.withColumn(\"pickup_timeslot\",adj_time_UDF(col(\"pickup_datetime\")))"
   ]
  },
  {
   "cell_type": "code",
   "execution_count": 62,
   "id": "ad8b38e6-7555-46df-b8a5-4d24b86a507c",
   "metadata": {},
   "outputs": [
    {
     "name": "stderr",
     "output_type": "stream",
     "text": [
      "                                                                                \r"
     ]
    },
    {
     "name": "stdout",
     "output_type": "stream",
     "text": [
      "+-------------------+-------------------+------------+------------+-------------------+\n",
      "|    pickup_datetime|   dropOff_datetime|PUlocationID|DOlocationID|    pickup_timeslot|\n",
      "+-------------------+-------------------+------------+------------+-------------------+\n",
      "|2019-08-01 00:08:00|2019-08-01 00:54:00|       264.0|       264.0|2019-08-01 00:00:00|\n",
      "|2019-08-01 00:08:00|2019-08-01 00:33:00|       264.0|       264.0|2019-08-01 00:00:00|\n",
      "|2019-08-01 00:08:00|2019-08-01 01:34:33|       264.0|       264.0|2019-08-01 00:00:00|\n",
      "|2019-08-01 00:08:00|2019-08-01 01:55:25|       264.0|       264.0|2019-08-01 00:00:00|\n",
      "|2019-08-01 00:08:00|2019-08-01 03:48:19|       264.0|       264.0|2019-08-01 00:00:00|\n",
      "+-------------------+-------------------+------------+------------+-------------------+\n",
      "only showing top 5 rows\n",
      "\n"
     ]
    }
   ],
   "source": [
    "df_2019_08.show(5)"
   ]
  },
  {
   "cell_type": "code",
   "execution_count": 64,
   "id": "ab535ff6-1457-44e3-aa1f-86350e4004ee",
   "metadata": {},
   "outputs": [],
   "source": [
    "dfcount_2019_07 = df_2019_07.groupBy(\"pickup_timeslot\", \"PUlocationID\").count()"
   ]
  },
  {
   "cell_type": "code",
   "execution_count": 65,
   "id": "9d00b852-9b88-4aa8-9d08-97bad0c5890a",
   "metadata": {},
   "outputs": [
    {
     "name": "stderr",
     "output_type": "stream",
     "text": [
      "                                                                                \r"
     ]
    },
    {
     "data": {
      "text/plain": [
       "87512"
      ]
     },
     "execution_count": 65,
     "metadata": {},
     "output_type": "execute_result"
    }
   ],
   "source": [
    "dfcount_2019_07.count()"
   ]
  },
  {
   "cell_type": "code",
   "execution_count": 66,
   "id": "98eef793-5a65-4458-90f9-f82b0d4c2127",
   "metadata": {},
   "outputs": [],
   "source": [
    "dfcount_2019_08 = df_2019_08.groupBy(\"pickup_timeslot\", \"PUlocationID\").count()"
   ]
  },
  {
   "cell_type": "code",
   "execution_count": 68,
   "id": "18378673-4c5d-46bb-93fc-c5f097ea4e61",
   "metadata": {},
   "outputs": [
    {
     "name": "stderr",
     "output_type": "stream",
     "text": [
      "[Stage 56:==============================================>           (4 + 1) / 5]\r"
     ]
    },
    {
     "name": "stdout",
     "output_type": "stream",
     "text": [
      "+-------------------+------------+-----+\n",
      "|    pickup_timeslot|PUlocationID|count|\n",
      "+-------------------+------------+-----+\n",
      "|2019-08-02 23:00:00|       264.0| 1634|\n",
      "|2019-08-18 03:00:00|       129.0|    4|\n",
      "|2019-08-01 00:00:00|       186.0|    2|\n",
      "|2019-08-01 03:00:00|       198.0|    7|\n",
      "|2019-08-01 12:00:00|        64.0|    3|\n",
      "+-------------------+------------+-----+\n",
      "only showing top 5 rows\n",
      "\n"
     ]
    },
    {
     "name": "stderr",
     "output_type": "stream",
     "text": [
      "                                                                                \r"
     ]
    }
   ],
   "source": [
    "dfcount_2019_08.show(5)"
   ]
  },
  {
   "cell_type": "code",
   "execution_count": 67,
   "id": "edbf9092-98f0-4446-aa45-dc5711837c39",
   "metadata": {},
   "outputs": [
    {
     "name": "stderr",
     "output_type": "stream",
     "text": [
      "                                                                                \r"
     ]
    },
    {
     "data": {
      "text/plain": [
       "95344"
      ]
     },
     "execution_count": 67,
     "metadata": {},
     "output_type": "execute_result"
    }
   ],
   "source": [
    "dfcount_2019_08.count()"
   ]
  },
  {
   "cell_type": "code",
   "execution_count": 71,
   "id": "30619e8a-e4cd-48b8-a591-515e2f05592e",
   "metadata": {},
   "outputs": [
    {
     "name": "stderr",
     "output_type": "stream",
     "text": [
      "[Stage 61:===============================================>        (22 + 4) / 26]\r"
     ]
    },
    {
     "name": "stdout",
     "output_type": "stream",
     "text": [
      "+-------------------+------------+-----+\n",
      "|    pickup_timeslot|PUlocationID|count|\n",
      "+-------------------+------------+-----+\n",
      "|2019-08-01 09:00:00|       264.0| 3846|\n",
      "|2019-08-07 09:00:00|       264.0| 3812|\n",
      "|2019-08-02 09:00:00|       264.0| 3801|\n",
      "|2019-08-08 08:00:00|       264.0| 3799|\n",
      "|2019-08-15 09:00:00|       264.0| 3752|\n",
      "|2019-08-08 09:00:00|       264.0| 3749|\n",
      "|2019-08-09 09:00:00|       264.0| 3734|\n",
      "|2019-08-23 09:00:00|       264.0| 3726|\n",
      "|2019-08-13 08:00:00|       264.0| 3715|\n",
      "|2019-08-02 08:00:00|       264.0| 3708|\n",
      "|2019-08-14 09:00:00|       264.0| 3706|\n",
      "|2019-08-05 08:00:00|       264.0| 3702|\n",
      "|2019-08-01 08:00:00|       264.0| 3690|\n",
      "|2019-08-12 09:00:00|       264.0| 3684|\n",
      "|2019-08-05 09:00:00|       264.0| 3680|\n",
      "|2019-08-06 09:00:00|       264.0| 3674|\n",
      "|2019-08-12 08:00:00|       264.0| 3671|\n",
      "|2019-08-06 08:00:00|       264.0| 3650|\n",
      "|2019-08-13 09:00:00|       264.0| 3649|\n",
      "|2019-08-07 08:00:00|       264.0| 3647|\n",
      "+-------------------+------------+-----+\n",
      "only showing top 20 rows\n",
      "\n"
     ]
    },
    {
     "name": "stderr",
     "output_type": "stream",
     "text": [
      "                                                                                \r"
     ]
    }
   ],
   "source": [
    "dfcount_2019_08.sort(col(\"count\").desc()).show()"
   ]
  },
  {
   "cell_type": "code",
   "execution_count": 72,
   "id": "d899726e-ffea-4acb-b665-f97de3c7ff11",
   "metadata": {},
   "outputs": [
    {
     "name": "stderr",
     "output_type": "stream",
     "text": [
      "                                                                                \r"
     ]
    }
   ],
   "source": [
    "dfcount_2019_07.toPandas().to_csv('df_count_07.csv')"
   ]
  },
  {
   "cell_type": "code",
   "execution_count": 73,
   "id": "d6535949-8b09-44cc-8b6f-76fdf7fe66a7",
   "metadata": {},
   "outputs": [
    {
     "name": "stderr",
     "output_type": "stream",
     "text": [
      "                                                                                \r"
     ]
    }
   ],
   "source": [
    "dfcount_2019_08.toPandas().to_csv('df_count_08.csv')"
   ]
  },
  {
   "cell_type": "code",
   "execution_count": null,
   "id": "8c5ab606-0688-43ea-ba6c-6208496f0dcb",
   "metadata": {},
   "outputs": [],
   "source": []
  }
 ],
 "metadata": {
  "kernelspec": {
   "display_name": "Python 3 (ipykernel)",
   "language": "python",
   "name": "python3"
  },
  "language_info": {
   "codemirror_mode": {
    "name": "ipython",
    "version": 3
   },
   "file_extension": ".py",
   "mimetype": "text/x-python",
   "name": "python",
   "nbconvert_exporter": "python",
   "pygments_lexer": "ipython3",
   "version": "3.7.11"
  }
 },
 "nbformat": 4,
 "nbformat_minor": 5
}
